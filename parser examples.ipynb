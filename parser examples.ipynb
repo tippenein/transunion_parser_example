{
 "cells": [
  {
   "cell_type": "code",
   "execution_count": 8,
   "metadata": {
    "collapsed": false
   },
   "outputs": [],
   "source": [
    "import qualified Data.Map as Map\n",
    "import Text.Parsec\n",
    "\n",
    "data Signal\n",
    "  = AD02 | AD11 | AH11 | AM01 |\n",
    "    AO01 | AR01 | AS01 | AT11 | BR01 |\n",
    "    CA01 | CC11 | CD01 | CH01 | CI01 |\n",
    "    CL11 | CL13 | CO01 | CORR | CP11 |\n",
    "    CR01 | CR02 | CS11 | DA01 | DB01 |\n",
    "    DC11 | DI01 | DR01 | ED01 | EF01 |\n",
    "    EM11 | END1 | ERRC | ERRT | FA11 |\n",
    "    FI01 | FT01 | GC01 | ID01 | ID02 |\n",
    "    IN11 | IN12 | LK11 | MC01 | MI01 |\n",
    "    ML01 | ML02 | MT01 | NM11 | NU01 |\n",
    "    OB01 | OB02 | PD01 | PH01 | PH02 |\n",
    "    PH03 | PH04 | PI11 | PN01 | PN02 |\n",
    "    PP11 | PR11 | PS01 | PS02 | QH01 |\n",
    "    RE01 | RR01 | SA11 | SC01 | SD01 |\n",
    "    SH01 | SH02 | SH03 | SH04 | SH05 |\n",
    "    SH06 | SM11 | SV01 | SV02 | SV03 |\n",
    "    TA01 | TC01 | TM11 | TR11 | TR12 |\n",
    "    TR13 | TT01 | TU4E | TU4R | TX01 |\n",
    "    UA11 | UF11 | VH01 | VS01 | WS01 |\n",
    "    YI01 | ZC01\n",
    "  deriving (Show, Enum, Ord, Eq, Read)\n",
    "\n",
    "allSignals :: [String]\n",
    "allSignals = map show [AD02 ..]\n"
   ]
  },
  {
   "cell_type": "markdown",
   "metadata": {},
   "source": [
    "We need to define a parser which can pull out matches to our `Signal`s"
   ]
  },
  {
   "cell_type": "code",
   "execution_count": null,
   "metadata": {
    "collapsed": true
   },
   "outputs": [],
   "source": [
    "type Parser = Parsec String ()\n",
    "\n",
    "signalParser :: Parser String\n",
    "signalParser = choice $ fmap try $ string <$> allSignals"
   ]
  },
  {
   "cell_type": "markdown",
   "metadata": {},
   "source": [
    "`choice` is equivalent to the infix `<|>`"
   ]
  },
  {
   "cell_type": "code",
   "execution_count": 15,
   "metadata": {
    "collapsed": false
   },
   "outputs": [],
   "source": [
    "toSignal :: String -> Signal\n",
    "toSignal s = read s :: Signal\n",
    "\n",
    "anySignal :: Parser (Signal, String)\n",
    "anySignal = do\n",
    "  signal <- signalParser\n",
    "  content <- manyTill anyToken signalParser\n",
    "  return (toSignal signal, content)\n"
   ]
  },
  {
   "cell_type": "code",
   "execution_count": 16,
   "metadata": {
    "collapsed": false
   },
   "outputs": [
    {
     "data": {
      "text/plain": [
       "Left (line 1, column 1):\n",
       "unexpected \"s\"\n",
       "expecting \"AD02\", \"AD11\", \"AH11\", \"AM01\", \"AO01\", \"AR01\", \"AS01\", \"AT11\", \"BR01\", \"CA01\", \"CC11\", \"CD01\", \"CH01\", \"CI01\", \"CL11\", \"CL13\", \"CO01\", \"CORR\", \"CP11\", \"CR01\", \"CR02\", \"CS11\", \"DA01\", \"DB01\", \"DC11\", \"DI01\", \"DR01\", \"ED01\", \"EF01\", \"EM11\", \"END1\", \"ERRC\", \"ERRT\", \"FA11\", \"FI01\", \"FT01\", \"GC01\", \"ID01\", \"ID02\", \"IN11\", \"IN12\", \"LK11\", \"MC01\", \"MI01\", \"ML01\", \"ML02\", \"MT01\", \"NM11\", \"NU01\", \"OB01\", \"OB02\", \"PD01\", \"PH01\", \"PH02\", \"PH03\", \"PH04\", \"PI11\", \"PN01\", \"PN02\", \"PP11\", \"PR11\", \"PS01\", \"PS02\", \"QH01\", \"RE01\", \"RR01\", \"SA11\", \"SC01\", \"SD01\", \"SH01\", \"SH02\", \"SH03\", \"SH04\", \"SH05\", \"SH06\", \"SM11\", \"SV01\", \"SV02\", \"SV03\", \"TA01\", \"TC01\", \"TM11\", \"TR11\", \"TR12\", \"TR13\", \"TT01\", \"TU4E\", \"TU4R\", \"TX01\", \"UA11\", \"UF11\", \"VH01\", \"VS01\", \"WS01\", \"YI01\" or \"ZC01\""
      ]
     },
     "metadata": {},
     "output_type": "display_data"
    }
   ],
   "source": [
    "parse anySignal \"\" \"stuff\""
   ]
  },
  {
   "cell_type": "code",
   "execution_count": 25,
   "metadata": {
    "collapsed": false
   },
   "outputs": [
    {
     "data": {
      "text/plain": [
       "Left (line 1, column 1):\n",
       "unexpected \"3\"\n",
       "expecting \"AD02\", \"AD11\", \"AH11\", \"AM01\", \"AO01\", \"AR01\", \"AS01\", \"AT11\", \"BR01\", \"CA01\", \"CC11\", \"CD01\", \"CH01\", \"CI01\", \"CL11\", \"CL13\", \"CO01\", \"CORR\", \"CP11\", \"CR01\", \"CR02\", \"CS11\", \"DA01\", \"DB01\", \"DC11\", \"DI01\", \"DR01\", \"ED01\", \"EF01\", \"EM11\", \"END1\", \"ERRC\", \"ERRT\", \"FA11\", \"FI01\", \"FT01\", \"GC01\", \"ID01\", \"ID02\", \"IN11\", \"IN12\", \"LK11\", \"MC01\", \"MI01\", \"ML01\", \"ML02\", \"MT01\", \"NM11\", \"NU01\", \"OB01\", \"OB02\", \"PD01\", \"PH01\", \"PH02\", \"PH03\", \"PH04\", \"PI11\", \"PN01\", \"PN02\", \"PP11\", \"PR11\", \"PS01\", \"PS02\", \"QH01\", \"RE01\", \"RR01\", \"SA11\", \"SC01\", \"SD01\", \"SH01\", \"SH02\", \"SH03\", \"SH04\", \"SH05\", \"SH06\", \"SM11\", \"SV01\", \"SV02\", \"SV03\", \"TA01\", \"TC01\", \"TM11\", \"TR11\", \"TR12\", \"TR13\", \"TT01\", \"TU4E\", \"TU4R\", \"TX01\", \"UA11\", \"UF11\", \"VH01\", \"VS01\", \"WS01\", \"YI01\" or \"ZC01\""
      ]
     },
     "metadata": {},
     "output_type": "display_data"
    }
   ],
   "source": [
    "parse anySignal \"\" \"AD03\""
   ]
  },
  {
   "cell_type": "code",
   "execution_count": 18,
   "metadata": {
    "collapsed": false
   },
   "outputs": [
    {
     "data": {
      "text/html": [
       "<style>/* Styles used for the Hoogle display in the pager */\n",
       ".hoogle-doc {\n",
       "display: block;\n",
       "padding-bottom: 1.3em;\n",
       "padding-left: 0.4em;\n",
       "}\n",
       ".hoogle-code {\n",
       "display: block;\n",
       "font-family: monospace;\n",
       "white-space: pre;\n",
       "}\n",
       ".hoogle-text {\n",
       "display: block;\n",
       "}\n",
       ".hoogle-name {\n",
       "color: green;\n",
       "font-weight: bold;\n",
       "}\n",
       ".hoogle-head {\n",
       "font-weight: bold;\n",
       "}\n",
       ".hoogle-sub {\n",
       "display: block;\n",
       "margin-left: 0.4em;\n",
       "}\n",
       ".hoogle-package {\n",
       "font-weight: bold;\n",
       "font-style: italic;\n",
       "}\n",
       ".hoogle-module {\n",
       "font-weight: bold;\n",
       "}\n",
       ".hoogle-class {\n",
       "font-weight: bold;\n",
       "}\n",
       ".get-type {\n",
       "color: green;\n",
       "font-weight: bold;\n",
       "font-family: monospace;\n",
       "display: block;\n",
       "white-space: pre-wrap;\n",
       "}\n",
       ".show-type {\n",
       "color: green;\n",
       "font-weight: bold;\n",
       "font-family: monospace;\n",
       "margin-left: 1em;\n",
       "}\n",
       ".mono {\n",
       "font-family: monospace;\n",
       "display: block;\n",
       "}\n",
       ".err-msg {\n",
       "color: red;\n",
       "font-style: italic;\n",
       "font-family: monospace;\n",
       "white-space: pre;\n",
       "display: block;\n",
       "}\n",
       "#unshowable {\n",
       "color: red;\n",
       "font-weight: bold;\n",
       "}\n",
       ".err-msg.in.collapse {\n",
       "padding-top: 0.7em;\n",
       "}\n",
       ".highlight-code {\n",
       "white-space: pre;\n",
       "font-family: monospace;\n",
       "}\n",
       ".suggestion-warning { \n",
       "font-weight: bold;\n",
       "color: rgb(200, 130, 0);\n",
       "}\n",
       ".suggestion-error { \n",
       "font-weight: bold;\n",
       "color: red;\n",
       "}\n",
       ".suggestion-name {\n",
       "font-weight: bold;\n",
       "}\n",
       "</style><span class='err-msg'>Non type-variable argument in the constraint: Stream s Data.Functor.Identity.Identity t<br/>(Use FlexibleContexts to permit this)<br/>When checking that ‘IHaskell117.parse'’ has the inferred type<br/>  interactive:IHaskell117.parse' :: forall s a t. Stream s Data.Functor.Identity.Identity t => Parsec s () a -> s -> Either ParseError a</span>"
      ],
      "text/plain": [
       "Non type-variable argument in the constraint: Stream s Data.Functor.Identity.Identity t\n",
       "(Use FlexibleContexts to permit this)\n",
       "When checking that ‘interactive:Ghci117.parse'’ has the inferred type\n",
       "  interactive:Ghci117.parse' :: forall s a t. Stream s Data.Functor.Identity.Identity t => Parsec s () a -> s -> Either ParseError a"
      ]
     },
     "metadata": {},
     "output_type": "display_data"
    }
   ],
   "source": [
    "parse' rule = parse rule \"(source file)\"\n",
    "\n",
    "parse' anySignal \"AD11asdf\""
   ]
  },
  {
   "cell_type": "code",
   "execution_count": 28,
   "metadata": {
    "collapsed": false
   },
   "outputs": [
    {
     "data": {
      "text/html": [
       "<style>/* Styles used for the Hoogle display in the pager */\n",
       ".hoogle-doc {\n",
       "display: block;\n",
       "padding-bottom: 1.3em;\n",
       "padding-left: 0.4em;\n",
       "}\n",
       ".hoogle-code {\n",
       "display: block;\n",
       "font-family: monospace;\n",
       "white-space: pre;\n",
       "}\n",
       ".hoogle-text {\n",
       "display: block;\n",
       "}\n",
       ".hoogle-name {\n",
       "color: green;\n",
       "font-weight: bold;\n",
       "}\n",
       ".hoogle-head {\n",
       "font-weight: bold;\n",
       "}\n",
       ".hoogle-sub {\n",
       "display: block;\n",
       "margin-left: 0.4em;\n",
       "}\n",
       ".hoogle-package {\n",
       "font-weight: bold;\n",
       "font-style: italic;\n",
       "}\n",
       ".hoogle-module {\n",
       "font-weight: bold;\n",
       "}\n",
       ".hoogle-class {\n",
       "font-weight: bold;\n",
       "}\n",
       ".get-type {\n",
       "color: green;\n",
       "font-weight: bold;\n",
       "font-family: monospace;\n",
       "display: block;\n",
       "white-space: pre-wrap;\n",
       "}\n",
       ".show-type {\n",
       "color: green;\n",
       "font-weight: bold;\n",
       "font-family: monospace;\n",
       "margin-left: 1em;\n",
       "}\n",
       ".mono {\n",
       "font-family: monospace;\n",
       "display: block;\n",
       "}\n",
       ".err-msg {\n",
       "color: red;\n",
       "font-style: italic;\n",
       "font-family: monospace;\n",
       "white-space: pre;\n",
       "display: block;\n",
       "}\n",
       "#unshowable {\n",
       "color: red;\n",
       "font-weight: bold;\n",
       "}\n",
       ".err-msg.in.collapse {\n",
       "padding-top: 0.7em;\n",
       "}\n",
       ".highlight-code {\n",
       "white-space: pre;\n",
       "font-family: monospace;\n",
       "}\n",
       ".suggestion-warning { \n",
       "font-weight: bold;\n",
       "color: rgb(200, 130, 0);\n",
       "}\n",
       ".suggestion-error { \n",
       "font-weight: bold;\n",
       "color: red;\n",
       "}\n",
       ".suggestion-name {\n",
       "font-weight: bold;\n",
       "}\n",
       "</style><span class='err-msg'>(line 1, column 5):<br/>unexpected end of input<br/>expecting \"AD02\", \"AD11\", \"AH11\", \"AM01\", \"AO01\", \"AR01\", \"AS01\", \"AT11\", \"BR01\", \"CA01\", \"CC11\", \"CD01\", \"CH01\", \"CI01\", \"CL11\", \"CL13\", \"CO01\", \"CORR\", \"CP11\", \"CR01\", \"CR02\", \"CS11\", \"DA01\", \"DB01\", \"DC11\", \"DI01\", \"DR01\", \"ED01\", \"EF01\", \"EM11\", \"END1\", \"ERRC\", \"ERRT\", \"FA11\", \"FI01\", \"FT01\", \"GC01\", \"ID01\", \"ID02\", \"IN11\", \"IN12\", \"LK11\", \"MC01\", \"MI01\", \"ML01\", \"ML02\", \"MT01\", \"NM11\", \"NU01\", \"OB01\", \"OB02\", \"PD01\", \"PH01\", \"PH02\", \"PH03\", \"PH04\", \"PI11\", \"PN01\", \"PN02\", \"PP11\", \"PR11\", \"PS01\", \"PS02\", \"QH01\", \"RE01\", \"RR01\", \"SA11\", \"SC01\", \"SD01\", \"SH01\", \"SH02\", \"SH03\", \"SH04\", \"SH05\", \"SH06\", \"SM11\", \"SV01\", \"SV02\", \"SV03\", \"TA01\", \"TC01\", \"TM11\", \"TR11\", \"TR12\", \"TR13\", \"TT01\", \"TU4E\", \"TU4R\", \"TX01\", \"UA11\", \"UF11\", \"VH01\", \"VS01\", \"WS01\", \"YI01\" or \"ZC01\"</span>"
      ],
      "text/plain": [
       "(line 1, column 5):\n",
       "unexpected end of input\n",
       "expecting \"AD02\", \"AD11\", \"AH11\", \"AM01\", \"AO01\", \"AR01\", \"AS01\", \"AT11\", \"BR01\", \"CA01\", \"CC11\", \"CD01\", \"CH01\", \"CI01\", \"CL11\", \"CL13\", \"CO01\", \"CORR\", \"CP11\", \"CR01\", \"CR02\", \"CS11\", \"DA01\", \"DB01\", \"DC11\", \"DI01\", \"DR01\", \"ED01\", \"EF01\", \"EM11\", \"END1\", \"ERRC\", \"ERRT\", \"FA11\", \"FI01\", \"FT01\", \"GC01\", \"ID01\", \"ID02\", \"IN11\", \"IN12\", \"LK11\", \"MC01\", \"MI01\", \"ML01\", \"ML02\", \"MT01\", \"NM11\", \"NU01\", \"OB01\", \"OB02\", \"PD01\", \"PH01\", \"PH02\", \"PH03\", \"PH04\", \"PI11\", \"PN01\", \"PN02\", \"PP11\", \"PR11\", \"PS01\", \"PS02\", \"QH01\", \"RE01\", \"RR01\", \"SA11\", \"SC01\", \"SD01\", \"SH01\", \"SH02\", \"SH03\", \"SH04\", \"SH05\", \"SH06\", \"SM11\", \"SV01\", \"SV02\", \"SV03\", \"TA01\", \"TC01\", \"TM11\", \"TR11\", \"TR12\", \"TR13\", \"TT01\", \"TU4E\", \"TU4R\", \"TX01\", \"UA11\", \"UF11\", \"VH01\", \"VS01\", \"WS01\", \"YI01\" or \"ZC01\""
      ]
     },
     "metadata": {},
     "output_type": "display_data"
    }
   ],
   "source": [
    "\n",
    "\n",
    "p :: String -> (Signal, String)\n",
    "p input = case parse anySignal \"\" input of\n",
    "  Left err -> error $ show err\n",
    "  Right r -> r\n",
    "\n",
    "p  \"AD11asdf\""
   ]
  },
  {
   "cell_type": "code",
   "execution_count": null,
   "metadata": {
    "collapsed": true
   },
   "outputs": [],
   "source": []
  }
 ],
 "metadata": {
  "kernelspec": {
   "display_name": "Haskell",
   "language": "haskell",
   "name": "haskell"
  },
  "language_info": {
   "codemirror_mode": "ihaskell",
   "file_extension": ".hs",
   "name": "haskell",
   "version": "7.10.2"
  }
 },
 "nbformat": 4,
 "nbformat_minor": 0
}
